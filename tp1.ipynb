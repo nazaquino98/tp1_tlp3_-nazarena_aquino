{
 "cells": [
  {
   "cell_type": "markdown",
   "metadata": {},
   "source": [
    "# Criterios de evaluación.\n",
    "\n",
    "* Se deben utilizar nombres de variables descriptivos y claros (Utilizar la nomeclatura correspondiente para los nombres de variables).\n",
    "* Comentarios claros y concisos que expliquen el propósito de cada sección del código.\n",
    "* Entrega en tiempo y forma.\n",
    "* Todo el código desarrollado debe ser subido a un repositorio en GitHub (el nombre del repositorio de seguir la siguiente estructura: tp1_tlp3_nombre_apellido).\n",
    "\n",
    "\n",
    "**Aclaración: Para resolver las actividades se debe incertar casillas de codigo entre cada actividad del cuaderno de Jupyter**"
   ]
  },
  {
   "cell_type": "markdown",
   "metadata": {},
   "source": [
    "### 1. **Hola Mundo y Variables**\n",
    "\n",
    "   - **Actividad 1.1**: Deben escribir un programa que imprima \"¡Hola, Mundo!\" en la consola.\n",
    "   - **Actividad 1.2**: Deben crear una variable llamada `nombre` y hacer que el programa imprima un saludo personalizado: `Hola, <nombre>!`"
   ]
  },
  {
   "cell_type": "code",
   "execution_count": 13,
   "metadata": {},
   "outputs": [
    {
     "name": "stdout",
     "output_type": "stream",
     "text": [
      "¡Hola, Mundo!\n",
      "Hola, Nazarena!\n"
     ]
    }
   ],
   "source": [
    "\n",
    "# todo: Resolución\n",
    "# Actividad 1.1:\n",
    "print(\"¡Hola, Mundo!\")\n",
    "\n",
    "# Actividad 1.2:\n",
    "nombre = \"Nazarena\"\n",
    "print(\"Hola, \" + nombre + \"!\")\n"
   ]
  },
  {
   "cell_type": "markdown",
   "metadata": {},
   "source": [
    "### 2. **Operaciones Matemáticas Básicas**\n",
    "\n",
    "   - **Actividad 1.1**: Crear un programa que pida al usuario dos números y realice las cuatro operaciones matemáticas básicas (suma, resta, multiplicación y división), imprimiendo los resultados.\n",
    "   - **Actividad 1.2**: Hacer que el programa calcule el promedio de los dos números."
   ]
  },
  {
   "cell_type": "code",
   "execution_count": 14,
   "metadata": {},
   "outputs": [
    {
     "ename": "ValueError",
     "evalue": "could not convert string to float: ''",
     "output_type": "error",
     "traceback": [
      "\u001b[31m---------------------------------------------------------------------------\u001b[39m",
      "\u001b[31mValueError\u001b[39m                                Traceback (most recent call last)",
      "\u001b[36mCell\u001b[39m\u001b[36m \u001b[39m\u001b[32mIn[14]\u001b[39m\u001b[32m, line 4\u001b[39m\n\u001b[32m      1\u001b[39m \u001b[38;5;66;03m# todo: Resolución\u001b[39;00m\n\u001b[32m      2\u001b[39m \u001b[38;5;66;03m# Actividad 1.1:\u001b[39;00m\n\u001b[32m      3\u001b[39m \u001b[38;5;66;03m# Pedir al usuario dos numeros\u001b[39;00m\n\u001b[32m----> \u001b[39m\u001b[32m4\u001b[39m num1 = \u001b[38;5;28;43mfloat\u001b[39;49m\u001b[43m(\u001b[49m\u001b[38;5;28;43minput\u001b[39;49m\u001b[43m(\u001b[49m\u001b[33;43m\"\u001b[39;49m\u001b[33;43mIngresa el primer numero: \u001b[39;49m\u001b[33;43m\"\u001b[39;49m\u001b[43m)\u001b[49m\u001b[43m)\u001b[49m\n\u001b[32m      5\u001b[39m num2 = \u001b[38;5;28mfloat\u001b[39m(\u001b[38;5;28minput\u001b[39m(\u001b[33m\"\u001b[39m\u001b[33mIngresa el segundo numero: \u001b[39m\u001b[33m\"\u001b[39m))\n\u001b[32m      7\u001b[39m \u001b[38;5;66;03m# Realizar operaciones\u001b[39;00m\n",
      "\u001b[31mValueError\u001b[39m: could not convert string to float: ''"
     ]
    }
   ],
   "source": [
    "\n",
    "# todo: Resolución\n",
    "# Actividad 1.1:\n",
    "# Pedir al usuario dos numeros\n",
    "num1 = float(input(\"Ingresa el primer numero: \"))\n",
    "num2 = float(input(\"Ingresa el segundo numero: \"))\n",
    "\n",
    "# Realizar operaciones\n",
    "suma = num1 + num2\n",
    "resta = num1 - num2\n",
    "multiplicacion = num1 * num2\n",
    "division = num1 / num2 \n",
    "\n",
    "# Mostrar resultados\n",
    "print(\"Suma:\", suma)\n",
    "print(\"Resta:\", resta)\n",
    "print(\"Multiplicacion:\", multiplicacion)\n",
    "print(\"Division:\", division)\n",
    "\n",
    "# Actividad 1.2:\n",
    "promedio = (num1 + num2) / 2\n",
    "print(\"Promedio:\", promedio)\n",
    "\n"
   ]
  },
  {
   "cell_type": "markdown",
   "metadata": {},
   "source": [
    "### 3. **Condicionales (if-else)**\n",
    "\n",
    "   - **Actividad 1.1**: Escribir un programa que pida al usuario su edad y le diga si es mayor de edad (18 años o más).\n",
    "   - **Actividad 1.2**: Agregar un mensaje diferente para diferentes rangos de edad, como por ejemplo, si es un niño, adolescente o adulto."
   ]
  },
  {
   "cell_type": "code",
   "execution_count": null,
   "metadata": {},
   "outputs": [
    {
     "name": "stdout",
     "output_type": "stream",
     "text": [
      "Sos mayor de edad.\n",
      "Sos un adulto\n"
     ]
    }
   ],
   "source": [
    "\n",
    "# todo: Resolución\n",
    "# Actividad 1.1:\n",
    "# Pedir la edad al usuario\n",
    "edad = float(input(\"Ingresa tu edad: \"))\n",
    "\n",
    "# Ver si es mayor\n",
    "if edad >= 18:\n",
    "    print(\"Sos mayor de edad\")\n",
    "else:\n",
    "    print(\"Sos menor de edad\")\n",
    "\n",
    "# Actividad 1.2:\n",
    "# Pedir la edad al usuario\n",
    "edad = float(input(\"Ingresa tu edad: \"))\n",
    "\n",
    "# Ver el rango de edad\n",
    "if edad < 12:\n",
    "    print(\"Sos un niño\")\n",
    "elif edad < 18:\n",
    "    print(\"Sos un adolescente\")\n",
    "elif edad < 60:\n",
    "    print(\"Sos un adulto\")\n",
    "else:\n",
    "    print(\"Sos un adulto mayor\")\n",
    "\n"
   ]
  },
  {
   "cell_type": "markdown",
   "metadata": {},
   "source": [
    "### 4. **Ciclos (while, for)**\n",
    "\n",
    "   - **Actividad 1.1**: Escribir un programa que imprima los números del 1 al 10 usando un bucle `for`.\n",
    "   - **Actividad 1.2**: Usar un bucle `while` para imprimir los números del 1 al 10, e imprimir solo aquellos números que sean divisibles por 2."
   ]
  },
  {
   "cell_type": "code",
   "execution_count": null,
   "metadata": {},
   "outputs": [
    {
     "name": "stdout",
     "output_type": "stream",
     "text": [
      "1\n",
      "2\n",
      "3\n",
      "4\n",
      "5\n",
      "6\n",
      "7\n",
      "8\n",
      "9\n",
      "10\n",
      "2\n",
      "4\n",
      "6\n",
      "8\n",
      "10\n"
     ]
    }
   ],
   "source": [
    "\n",
    "# todo: Resolución\n",
    "# Actividad 1.1:\n",
    "for i in range(1, 11):  \n",
    "    print(i)\n",
    "\n",
    "#Actividad 1.2:\n",
    "num = 1\n",
    "\n",
    "while num <= 10:  \n",
    "    if num % 2 == 0:  \n",
    "        print(num)\n",
    "    num += 1\n"
   ]
  },
  {
   "cell_type": "markdown",
   "metadata": {},
   "source": [
    "### 5. **Listas y Bucles**\n",
    "\n",
    "   - **Actividad 1.1**: Crear una lista con 5 números y escribir un programa que imprima cada número de la lista usando un bucle `for`.\n",
    "   - **Actividad 1.2**: Usar un bucle para calcular la suma de los números de la lista."
   ]
  },
  {
   "cell_type": "code",
   "execution_count": null,
   "metadata": {},
   "outputs": [
    {
     "name": "stdout",
     "output_type": "stream",
     "text": [
      "1\n",
      "2\n",
      "3\n",
      "4\n",
      "5\n",
      "La suma de los numeros es: 15\n"
     ]
    }
   ],
   "source": [
    "\n",
    "# todo: Resolución\n",
    "# Actividad 1.1:\n",
    "# Lista con 5 numeros\n",
    "numeros = [1, 2, 3, 4, 5]\n",
    "\n",
    "# Recorrer la lista e imprimir cada numero\n",
    "for i in numeros:\n",
    "    print(i)\n",
    "\n",
    "# Actividad 1.2:\n",
    "suma = 0\n",
    "\n",
    "# Recorrer la lista y sumar los valores\n",
    "for i in numeros:\n",
    "    suma += i\n",
    "\n",
    "# Imprimir el resultado\n",
    "print(\"La suma de los numeros es:\", suma)\n",
    "\n"
   ]
  },
  {
   "cell_type": "markdown",
   "metadata": {},
   "source": [
    "### 6. **Funciones**\n",
    "\n",
    "   - **Actividad 1.1**: Escribir una función llamada `saludo` que reciba un nombre como parámetro y devuelva un saludo personalizado.\n",
    "   - **Actividad 1.2**: Crear una función que reciba dos números y devuelva su suma, resta, multiplicación y división."
   ]
  },
  {
   "cell_type": "code",
   "execution_count": null,
   "metadata": {},
   "outputs": [
    {
     "name": "stdout",
     "output_type": "stream",
     "text": [
      "Hola, naza!\n",
      "Suma: 103.0\n",
      "Resta: 53.0\n",
      "Multiplicacion: 1950.0\n",
      "Division: 3.12\n"
     ]
    }
   ],
   "source": [
    "\n",
    "# todo: Resolución\n",
    "#Actividad 1.1:\n",
    "def saludo(nombre):\n",
    "    return f\"Hola, {nombre}!\"\n",
    "\n",
    "nombre_usuario = input(\"Ingresa tu nombre: \")\n",
    "print(saludo(nombre_usuario))\n",
    "\n",
    "# Actividad 1.2:\n",
    "def operaciones(num1, num2):\n",
    "    suma = num1 + num2\n",
    "    resta = num1 - num2\n",
    "    multiplicacion = num1 * num2\n",
    "    division = num1 / num2\n",
    "    \n",
    "    return suma, resta, multiplicacion, division\n",
    "\n",
    "num1 = float(input(\"Ingresa el primer numero: \"))\n",
    "num2 = float(input(\"Ingresa el segundo numero: \"))\n",
    "\n",
    "resultado = operaciones(num1, num2)\n",
    "print(\"Suma:\", resultado[0])\n",
    "print(\"Resta:\", resultado[1])\n",
    "print(\"Multiplicacion:\", resultado[2])\n",
    "print(\"Division:\", resultado[3])\n",
    "\n"
   ]
  },
  {
   "cell_type": "markdown",
   "metadata": {},
   "source": [
    "### 7. **Manejo de cadenas de texto**\n",
    "\n",
    "   - **Actividad 1.1**: Escribir un programa que pida al usuario su nombre y lo imprima en mayúsculas y en minúsculas.\n",
    "   - **Actividad 1.2**: Hacer que el programa imprima la longitud del nombre ingresado (no tener en cuenta los espacios en blanco)."
   ]
  },
  {
   "cell_type": "code",
   "execution_count": null,
   "metadata": {},
   "outputs": [
    {
     "name": "stdout",
     "output_type": "stream",
     "text": [
      "En mayusculas: NAZARENA\n",
      "En minusculas: nazarena\n",
      "La longitud de tu nombre es: 8\n"
     ]
    }
   ],
   "source": [
    "# Actividad 1.1:\n",
    "nombre = input(\"Ingresa tu nombre: \")\n",
    "\n",
    "# Imprimir en mayusculas y minusculas\n",
    "print(\"En mayusculas:\", nombre.upper())\n",
    "print(\"En minusculas:\", nombre.lower())\n",
    "\n",
    "# Actividad 1.2:\n",
    "\n",
    "longitud = len(nombre.replace(\" \", \"\"))\n",
    "\n",
    "\n",
    "print(\"La longitud de tu nombre es:\", longitud)\n",
    "\n"
   ]
  },
  {
   "cell_type": "markdown",
   "metadata": {},
   "source": [
    "### 8. **Diccionarios**\n",
    "\n",
    "   - **Actividad1.1**: Crear un diccionario que contenga los nombres de tres personas como claves y sus edades como valores. El programa debe imprimir la edad de cada persona.\n",
    "   - **Actividad1.2**: Escribir un programa que pregunte al usuario un nombre, luego su edad y los agregue al diccionario."
   ]
  },
  {
   "cell_type": "code",
   "execution_count": null,
   "metadata": {},
   "outputs": [
    {
     "name": "stdout",
     "output_type": "stream",
     "text": [
      "Ana tiene 25 años.\n",
      "Carlos tiene 30 años.\n",
      "Lucía tiene 22 años.\n",
      "Diccionario actualizado: {'Ana': 25, 'Carlos': 30, 'Lucía': 22, 'naza': 26}\n"
     ]
    }
   ],
   "source": [
    "\n",
    "# todo: Resolución\n",
    "# Actividad 1.1:\n",
    "# Crear el diccionario con nombres y edades\n",
    "edades = {\"Ana\": 25, \"Carlos\": 30, \"Lucía\": 22}\n",
    "\n",
    "# Imprimir la edad de cada persona\n",
    "for nombre, edad in edades.items():\n",
    "    print(f\"{nombre} tiene {edad} años.\")\n",
    "\n",
    "# Actividad 1.2:\n",
    "# Pedir nombre y edad al usuario\n",
    "nuevo_nombre = input(\"Ingresa un nombre: \")\n",
    "nueva_edad = int(input(\"Ingresa la edad: \"))\n",
    "\n",
    "# Agregar al diccionario\n",
    "edades[nuevo_nombre] = nueva_edad\n",
    "\n",
    "# Mostrar el diccionario actualizado\n",
    "print(\"Diccionario actualizado:\", edades)\n",
    "\n"
   ]
  },
  {
   "cell_type": "markdown",
   "metadata": {},
   "source": [
    "### 9. **Números aleatorios**\n",
    "\n",
    "   - **Actividad 1.1**: Escribir un programa que genere 5 números aleatorios entre 1 y 100, lo imprima por consola y diga si es mayor o menor a 50.\n",
    "   - **Actividad 1.2**: Sumar los 5 números generados aleatoriamente y en caso de que el resultado sea mayor a 100, mostrar el valor antes de ser mayor a 100 y cuantos números se sumaron para llegar a dicho valor."
   ]
  },
  {
   "cell_type": "code",
   "execution_count": null,
   "metadata": {},
   "outputs": [
    {
     "name": "stdout",
     "output_type": "stream",
     "text": [
      "45 es menor que 50\n",
      "22 es menor que 50\n",
      "9 es menor que 50\n",
      "99 es mayor que 50\n",
      "61 es mayor que 50\n",
      "Antes de superar 100: 76\n",
      "Números sumados hasta superar 100: 4\n"
     ]
    }
   ],
   "source": [
    "\n",
    "# todo: Resolución\n",
    "\n",
    "#Actividad 1.1:\n",
    "import random\n",
    "\n",
    "# Generar 5 numeros aleatorios entre 1 y 100\n",
    "numeros = [random.randint(1, 100) for i in range(5)]\n",
    "\n",
    "# Imprimir cada numero y si es mayor o menor a 50\n",
    "for num in numeros:\n",
    "    if num > 50:\n",
    "        print(f\"{num} es mayor que 50\")\n",
    "    elif num == 50:\n",
    "        print(f\"{num} es igual que 50\")\n",
    "    else:\n",
    "        print(f\"{num} es menor que 50\")\n",
    "\n",
    "# Actividad 1.2:\n",
    "suma = 0\n",
    "contador = 0\n",
    "\n",
    "for num in numeros:\n",
    "    suma += num\n",
    "    contador += 1\n",
    "    if suma > 100:\n",
    "        print(f\"Antes de superar 100: {suma - num}\")\n",
    "        print(f\"Números sumados hasta superar 100: {contador}\")\n",
    "        break\n",
    "\n"
   ]
  },
  {
   "cell_type": "markdown",
   "metadata": {},
   "source": [
    "### 10. **Proyecto Final: Calculadora**\n",
    "\n",
    "   - **Actividad 1.1**: Los estudiantes deben crear una calculadora básica que permita realizar operaciones de suma, resta, multiplicación y división con entradas del usuario. El programa debe pedir al usuario que elija la operación y luego introducir 2 números para realizar el cálculo.\n",
    "   - **Actividad 1.2**: Implementar una opción para que el usuario pueda continuar haciendo cálculos o salir del programa."
   ]
  },
  {
   "cell_type": "code",
   "execution_count": null,
   "metadata": {},
   "outputs": [
    {
     "name": "stdout",
     "output_type": "stream",
     "text": [
      "Operaciones:\n",
      "1. Suma\n",
      "2. Resta\n",
      "3. Multiplicacion\n",
      "4. Division\n",
      "50.0 - 30.0 = 20.0\n",
      "Gracias por usar la calculadora\n"
     ]
    }
   ],
   "source": [
    "\n",
    "# todo: Resolución\n",
    "\n",
    "# Actividad 1.1:\n",
    "def suma(a, b):\n",
    "    return a + b\n",
    "\n",
    "def resta(a, b):\n",
    "    return a - b\n",
    "\n",
    "def multiplicacion(a, b):\n",
    "    return a * b\n",
    "\n",
    "def division(a, b):\n",
    "    if b != 0:\n",
    "        return a / b\n",
    "    else:\n",
    "        return \"Error: No se puede dividir por cero\"\n",
    "\n",
    "# Funcion para la calculadora\n",
    "def calculadora():\n",
    "    while True:\n",
    "        print(\"Operaciones:\")\n",
    "        print(\"1. Suma\")\n",
    "        print(\"2. Resta\")\n",
    "        print(\"3. Multiplicacion\")\n",
    "        print(\"4. Division\")\n",
    "        \n",
    "        # Solicitar al usuario que elija una operacion\n",
    "        operacion = input(\"Elija e ingrese la operacion (1/2/3/4): \")\n",
    "\n",
    "        # Pedir los dos numeros\n",
    "        try:\n",
    "            num1 = float(input(\"Ingrese el primer numero: \"))\n",
    "            num2 = float(input(\"Ingrese el segundo numero: \"))\n",
    "        except ValueError:\n",
    "            print(\"Ingresa un numero valido\")\n",
    "            continue\n",
    "\n",
    "        # Realizar la operacion seleccionada\n",
    "        if operacion == '1':\n",
    "            print(f\"{num1} + {num2} = {suma(num1, num2)}\")\n",
    "        elif operacion == '2':\n",
    "            print(f\"{num1} - {num2} = {resta(num1, num2)}\")\n",
    "        elif operacion == '3':\n",
    "            print(f\"{num1} * {num2} = {multiplicacion(num1, num2)}\")\n",
    "        elif operacion == '4':\n",
    "            print(f\"{num1} / {num2} = {division(num1, num2)}\")\n",
    "        else:\n",
    "            print(\"Opcion no valida\")\n",
    "            continue\n",
    "\n",
    "        # Preguntar si desea realizar otro calculo\n",
    "        continuar = input(\"¿Queres hacer otro calculo? (si/no): \").lower()\n",
    "        if continuar != 'si':\n",
    "            print(\"Gracias por usar la calculadora\")\n",
    "            break\n",
    "\n",
    "# Ejecutar la calculadora\n",
    "calculadora()\n"
   ]
  },
  {
   "cell_type": "markdown",
   "metadata": {},
   "source": [
    "### EXTRA. **Juegos Simples (Adivina el número)**\n",
    "\n",
    "   - **Actividad 1.1**: Escribir un juego donde el programa elija un número aleatorio entre 1 y 100 y el usuario tenga que adivinarlo. El programa debe dar pistas si el número es mayor o menor.\n",
    "   - **Actividad 1.2**: Limitar el número de intentos y mostrar un mensaje de éxito o fracaso al final."
   ]
  },
  {
   "cell_type": "code",
   "execution_count": null,
   "metadata": {},
   "outputs": [
    {
     "name": "stdout",
     "output_type": "stream",
     "text": [
      "El número es menor.\n",
      "El número es mayor.\n",
      "El número es mayor.\n",
      "El número es menor.\n",
      "El número es menor.\n",
      "Lo siento, te quedaste sin intentos. El número era 34.\n"
     ]
    }
   ],
   "source": [
    "# Activida 1.1:\n",
    "import random  \n",
    "\n",
    "numero_secreto = random.randint(1, 100)  \n",
    "intentos = 5  \n",
    "\n",
    "while intentos > 0:  \n",
    "    intento = int(input(f\"Tienes {intentos} intentos. Adivina el numero del 1 al 100: \"))  \n",
    "    \n",
    "    if intento < numero_secreto:  \n",
    "        print(\"El numero es mayor\")  \n",
    "    elif intento > numero_secreto:  \n",
    "        print(\"El numero es menor\")  \n",
    "    else:  \n",
    "        print(\"¡Felicidades! Adivinaste el numero.\")  \n",
    "        break  \n",
    "    \n",
    "    intentos -= 1  \n",
    "\n",
    "if intentos == 0:  \n",
    "    print(f\"Lo siento, te quedaste sin intentos. El numero era {numero_secreto}\")  \n",
    " \n"
   ]
  }
 ],
 "metadata": {
  "kernelspec": {
   "display_name": "Python 3",
   "language": "python",
   "name": "python3"
  },
  "language_info": {
   "codemirror_mode": {
    "name": "ipython",
    "version": 3
   },
   "file_extension": ".py",
   "mimetype": "text/x-python",
   "name": "python",
   "nbconvert_exporter": "python",
   "pygments_lexer": "ipython3",
   "version": "3.12.9"
  }
 },
 "nbformat": 4,
 "nbformat_minor": 2
}
