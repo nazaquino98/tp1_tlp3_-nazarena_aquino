{
 "cells": [
  {
   "cell_type": "markdown",
   "metadata": {},
   "source": [
    "# Criterios de evaluación.\n",
    "\n",
    "* Se deben utilizar nombres de variables descriptivos y claros (Utilizar la nomeclatura correspondiente para los nombres de variables).\n",
    "* Comentarios claros y concisos que expliquen el propósito de cada sección del código.\n",
    "* Entrega en tiempo y forma.\n",
    "* Todo el código desarrollado debe ser subido a un repositorio en GitHub (el nombre del repositorio de seguir la siguiente estructura: tp1_tlp3_nombre_apellido).\n",
    "\n",
    "\n",
    "**Aclaración: Para resolver las actividades se debe incertar casillas de codigo entre cada actividad del cuaderno de Jupyter**"
   ]
  },
  {
   "cell_type": "markdown",
   "metadata": {},
   "source": [
    "### 1. **Hola Mundo y Variables**\n",
    "\n",
    "   - **Actividad 1.1**: Deben escribir un programa que imprima \"¡Hola, Mundo!\" en la consola.\n",
    "   - **Actividad 1.2**: Deben crear una variable llamada `nombre` y hacer que el programa imprima un saludo personalizado: `Hola, <nombre>!`"
   ]
  },
  {
   "cell_type": "code",
   "execution_count": null,
   "metadata": {},
   "outputs": [],
   "source": [
    "\n",
    "# todo: Resolución"
   ]
  },
  {
   "cell_type": "markdown",
   "metadata": {},
   "source": [
    "### 2. **Operaciones Matemáticas Básicas**\n",
    "\n",
    "   - **Actividad 1.1**: Crear un programa que pida al usuario dos números y realice las cuatro operaciones matemáticas básicas (suma, resta, multiplicación y división), imprimiendo los resultados.\n",
    "   - **Actividad 1.2**: Hacer que el programa calcule el promedio de los dos números."
   ]
  },
  {
   "cell_type": "code",
   "execution_count": null,
   "metadata": {},
   "outputs": [],
   "source": [
    "\n",
    "# todo: Resolución"
   ]
  },
  {
   "cell_type": "markdown",
   "metadata": {},
   "source": [
    "### 3. **Condicionales (if-else)**\n",
    "\n",
    "   - **Actividad 1.1**: Escribir un programa que pida al usuario su edad y le diga si es mayor de edad (18 años o más).\n",
    "   - **Actividad 1.2**: Agregar un mensaje diferente para diferentes rangos de edad, como por ejemplo, si es un niño, adolescente o adulto."
   ]
  },
  {
   "cell_type": "code",
   "execution_count": null,
   "metadata": {},
   "outputs": [],
   "source": [
    "\n",
    "# todo: Resolución"
   ]
  },
  {
   "cell_type": "markdown",
   "metadata": {},
   "source": [
    "### 4. **Ciclos (while, for)**\n",
    "\n",
    "   - **Actividad 1.1**: Escribir un programa que imprima los números del 1 al 10 usando un bucle `for`.\n",
    "   - **Actividad 1.2**: Usar un bucle `while` para imprimir los números del 1 al 10, e imprimir solo aquellos números que sean divisibles por 2."
   ]
  },
  {
   "cell_type": "code",
   "execution_count": null,
   "metadata": {},
   "outputs": [],
   "source": [
    "\n",
    "# todo: Resolución"
   ]
  },
  {
   "cell_type": "markdown",
   "metadata": {},
   "source": [
    "### 5. **Listas y Bucles**\n",
    "\n",
    "   - **Actividad 1.1**: Crear una lista con 5 números y escribir un programa que imprima cada número de la lista usando un bucle `for`.\n",
    "   - **Actividad 1.2**: Usar un bucle para calcular la suma de los números de la lista."
   ]
  },
  {
   "cell_type": "code",
   "execution_count": null,
   "metadata": {},
   "outputs": [],
   "source": [
    "\n",
    "# todo: Resolución"
   ]
  },
  {
   "cell_type": "markdown",
   "metadata": {},
   "source": [
    "### 6. **Funciones**\n",
    "\n",
    "   - **Actividad 1.1**: Escribir una función llamada `saludo` que reciba un nombre como parámetro y devuelva un saludo personalizado.\n",
    "   - **Actividad 1.2**: Crear una función que reciba dos números y devuelva su suma, resta, multiplicación y división."
   ]
  },
  {
   "cell_type": "code",
   "execution_count": null,
   "metadata": {},
   "outputs": [],
   "source": [
    "\n",
    "# todo: Resolución"
   ]
  },
  {
   "cell_type": "markdown",
   "metadata": {},
   "source": [
    "### 7. **Manejo de cadenas de texto**\n",
    "\n",
    "   - **Actividad 1.1**: Escribir un programa que pida al usuario su nombre y lo imprima en mayúsculas y en minúsculas.\n",
    "   - **Actividad 1.2**: Hacer que el programa imprima la longitud del nombre ingresado (no tener en cuenta los espacios en blanco)."
   ]
  },
  {
   "cell_type": "code",
   "execution_count": null,
   "metadata": {},
   "outputs": [
    {
     "name": "stdout",
     "output_type": "stream",
     "text": [
      "9\n",
      "holamundo\n"
     ]
    }
   ],
   "source": []
  },
  {
   "cell_type": "markdown",
   "metadata": {},
   "source": [
    "### 8. **Diccionarios**\n",
    "\n",
    "   - **Actividad1.1**: Crear un diccionario que contenga los nombres de tres personas como claves y sus edades como valores. El programa debe imprimir la edad de cada persona.\n",
    "   - **Actividad1.2**: Escribir un programa que pregunte al usuario un nombre, luego su edad y los agregue al diccionario."
   ]
  },
  {
   "cell_type": "code",
   "execution_count": null,
   "metadata": {},
   "outputs": [],
   "source": [
    "\n",
    "# todo: Resolución"
   ]
  },
  {
   "cell_type": "markdown",
   "metadata": {},
   "source": [
    "### 9. **Números aleatorios**\n",
    "\n",
    "   - **Actividad 1.1**: Escribir un programa que genere 5 números aleatorios entre 1 y 100, lo imprima por consola y diga si es mayor o menor a 50.\n",
    "   - **Actividad 1.2**: Sumar los 5 números generados aleatoriamente y en caso de que el resultado sea mayor a 100, mostrar el valor antes de ser mayor a 100 y cuantos números se sumaron para llegar a dicho valor."
   ]
  },
  {
   "cell_type": "code",
   "execution_count": null,
   "metadata": {},
   "outputs": [],
   "source": [
    "\n",
    "# todo: Resolución"
   ]
  },
  {
   "cell_type": "markdown",
   "metadata": {},
   "source": [
    "### 10. **Proyecto Final: Calculadora**\n",
    "\n",
    "   - **Actividad 1.1**: Los estudiantes deben crear una calculadora básica que permita realizar operaciones de suma, resta, multiplicación y división con entradas del usuario. El programa debe pedir al usuario que elija la operación y luego introducir 2 números para realizar el cálculo.\n",
    "   - **Actividad 1.2**: Implementar una opción para que el usuario pueda continuar haciendo cálculos o salir del programa."
   ]
  },
  {
   "cell_type": "code",
   "execution_count": null,
   "metadata": {},
   "outputs": [],
   "source": [
    "\n",
    "# todo: Resolución"
   ]
  },
  {
   "cell_type": "markdown",
   "metadata": {},
   "source": [
    "### EXTRA. **Juegos Simples (Adivina el número)**\n",
    "\n",
    "   - **Actividad 1.1**: Escribir un juego donde el programa elija un número aleatorio entre 1 y 100 y el usuario tenga que adivinarlo. El programa debe dar pistas si el número es mayor o menor.\n",
    "   - **Actividad 1.2**: Limitar el número de intentos y mostrar un mensaje de éxito o fracaso al final."
   ]
  }
 ],
 "metadata": {
  "kernelspec": {
   "display_name": "Python 3",
   "language": "python",
   "name": "python3"
  },
  "language_info": {
   "codemirror_mode": {
    "name": "ipython",
    "version": 3
   },
   "file_extension": ".py",
   "mimetype": "text/x-python",
   "name": "python",
   "nbconvert_exporter": "python",
   "pygments_lexer": "ipython3",
   "version": "3.9.6"
  }
 },
 "nbformat": 4,
 "nbformat_minor": 2
}
